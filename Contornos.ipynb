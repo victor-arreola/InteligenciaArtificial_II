{
 "cells": [
  {
   "cell_type": "code",
   "execution_count": 13,
   "metadata": {},
   "outputs": [
    {
     "name": "stdout",
     "output_type": "stream",
     "text": [
      "Imágenes de contornos guardadas en V:\\Tec\\7mo Smestre\\Inteligencia Artificial II\\Reto\\Datos\\Contornos Mascaras\\test\n"
     ]
    }
   ],
   "source": [
    "import os\n",
    "import cv2\n",
    "import numpy as np\n",
    "\n",
    "# Rutas de los directorios y archivos\n",
    "dir_arrays_mascaras = r'V:\\Tec\\7mo Smestre\\Inteligencia Artificial II\\Reto\\Datos\\Arrays Mascaras'\n",
    "archivo_np = 'datos_RETOmasks_test.npy'\n",
    "dir_contornos = r'V:\\Tec\\7mo Smestre\\Inteligencia Artificial II\\Reto\\Datos\\Contornos Mascaras\\test'\n",
    "\n",
    "# Cargar el archivo Numpy ndarray\n",
    "masks_test = np.load(os.path.join(dir_arrays_mascaras, archivo_np))\n",
    "\n",
    "# Binarizar las máscaras\n",
    "threshold = 0.5\n",
    "masks_test = np.where(masks_test >= threshold, 1, 0)\n",
    "\n",
    "# Crear el directorio de salida si no existe\n",
    "os.makedirs(dir_contornos, exist_ok=True)\n",
    "\n",
    "# Obtener los contornos y guardar las imágenes en la carpeta de contornos\n",
    "for i, mask in enumerate(masks_test):\n",
    "    # Encuentra los contornos en la máscara binarizada\n",
    "    contours, _ = cv2.findContours((mask * 255).astype(np.uint8), cv2.RETR_EXTERNAL, cv2.CHAIN_APPROX_SIMPLE)\n",
    "\n",
    "    # Crea una imagen en blanco para dibujar los contornos\n",
    "    contorno_imagen = np.zeros_like(mask)\n",
    "\n",
    "    # Dibuja los contornos en la imagen en blanco\n",
    "    cv2.drawContours(contorno_imagen, contours, -1, (255), thickness=1)\n",
    "\n",
    "    # Guarda la imagen del contorno en el directorio de salida\n",
    "    nombre_archivo = f'contorno_{i}.png'\n",
    "    ruta_guardado = os.path.join(dir_contornos, nombre_archivo)\n",
    "    cv2.imwrite(ruta_guardado, contorno_imagen)\n",
    "\n",
    "print(\"Imágenes de contornos guardadas en\", dir_contornos)\n"
   ]
  },
  {
   "cell_type": "code",
   "execution_count": 17,
   "metadata": {},
   "outputs": [
    {
     "name": "stdout",
     "output_type": "stream",
     "text": [
      "Contornos generados y guardados exitosamente.\n"
     ]
    }
   ],
   "source": [
    "import os\n",
    "import cv2\n",
    "import numpy as np\n",
    "\n",
    "# Rutas de entrada y salida\n",
    "dir_mascaras = r'V:\\Tec\\7mo Smestre\\Inteligencia Artificial II\\Reto\\Datos\\Mascaras\\mascaras_train'\n",
    "dir_contornos = r'V:\\Tec\\7mo Smestre\\Inteligencia Artificial II\\Reto\\Datos\\Contornos Mascaras\\train'\n",
    "threshold = 0.5\n",
    "\n",
    "# Lista de archivos en la carpeta de máscaras\n",
    "archivos_mascaras = os.listdir(dir_mascaras)\n",
    "\n",
    "# Itera sobre los archivos de máscaras\n",
    "for archivo in archivos_mascaras:\n",
    "    ruta_mascara = os.path.join(dir_mascaras, archivo)\n",
    "    \n",
    "    # Carga la imagen de la máscara\n",
    "    mascara = cv2.imread(ruta_mascara, cv2.IMREAD_GRAYSCALE) / 255.0\n",
    "    \n",
    "    # Binariza la máscara\n",
    "    mascara_binarizada = np.where(mascara >= threshold, 1, 0)\n",
    "    \n",
    "    # Encuentra los contornos en la máscara binarizada\n",
    "    contours, _ = cv2.findContours((mascara_binarizada * 255).astype(np.uint8), cv2.RETR_EXTERNAL, cv2.CHAIN_APPROX_SIMPLE)\n",
    "    \n",
    "    # Crea una imagen en blanco para dibujar los contornos\n",
    "    contorno_imagen = np.zeros_like(mascara_binarizada)\n",
    "    \n",
    "    # Dibuja los contornos en la imagen en blanco\n",
    "    cv2.drawContours(contorno_imagen, contours, -1, (255), thickness=1)\n",
    "    \n",
    "    # Guarda la imagen del contorno en el directorio de salida con el mismo nombre\n",
    "    nombre_archivo_contorno = os.path.splitext(archivo)[0] + '_contorno.png'\n",
    "    ruta_guardado_contorno = os.path.join(dir_contornos, nombre_archivo_contorno)\n",
    "    cv2.imwrite(ruta_guardado_contorno, contorno_imagen)\n",
    "\n",
    "print(\"Contornos generados y guardados exitosamente.\")\n"
   ]
  },
  {
   "cell_type": "code",
   "execution_count": null,
   "metadata": {},
   "outputs": [],
   "source": []
  },
  {
   "cell_type": "code",
   "execution_count": 18,
   "metadata": {},
   "outputs": [
    {
     "name": "stdout",
     "output_type": "stream",
     "text": [
      "Tamaño de la imagen 0XFEBEEFF93F6FEB9_frame_38_mask_contorno.png: Ancho = 112, Alto = 112\n"
     ]
    }
   ],
   "source": [
    "from PIL import Image\n",
    "\n",
    "# Guarda la imagen del contorno en el directorio de salida con el mismo nombre\n",
    "nombre_archivo_contorno = os.path.splitext(archivo)[0] + '_contorno.png'\n",
    "ruta_guardado_contorno = os.path.join(dir_contornos, nombre_archivo_contorno)\n",
    "cv2.imwrite(ruta_guardado_contorno, contorno_imagen)\n",
    "\n",
    "# Abre la imagen con PIL para obtener su tamaño\n",
    "imagen_pil = Image.open(ruta_guardado_contorno)\n",
    "ancho, alto = imagen_pil.size\n",
    "\n",
    "print(f\"Tamaño de la imagen {nombre_archivo_contorno}: Ancho = {ancho}, Alto = {alto}\")\n"
   ]
  }
 ],
 "metadata": {
  "kernelspec": {
   "display_name": "Python 3",
   "language": "python",
   "name": "python3"
  },
  "language_info": {
   "codemirror_mode": {
    "name": "ipython",
    "version": 3
   },
   "file_extension": ".py",
   "mimetype": "text/x-python",
   "name": "python",
   "nbconvert_exporter": "python",
   "pygments_lexer": "ipython3",
   "version": "3.11.0"
  }
 },
 "nbformat": 4,
 "nbformat_minor": 2
}
