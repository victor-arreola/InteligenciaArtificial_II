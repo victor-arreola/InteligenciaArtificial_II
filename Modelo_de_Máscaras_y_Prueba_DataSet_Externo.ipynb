{
  "nbformat": 4,
  "nbformat_minor": 0,
  "metadata": {
    "colab": {
      "provenance": [],
      "gpuType": "T4"
    },
    "kernelspec": {
      "name": "python3",
      "display_name": "Python 3"
    },
    "language_info": {
      "name": "python"
    },
    "accelerator": "GPU"
  },
  "cells": [
    {
      "cell_type": "code",
      "source": [
        "import pandas as pd\n",
        "import seaborn as sns\n",
        "import numpy as np\n",
        "import matplotlib.pyplot as plt\n",
        "import statsmodels.api as sm\n",
        "import scipy.stats as stats\n",
        "%matplotlib inline"
      ],
      "metadata": {
        "id": "IkcJedhmrRT_"
      },
      "execution_count": 1,
      "outputs": []
    },
    {
      "cell_type": "code",
      "source": [
        "from google.colab import drive #Lo ligamos a nuestra memoria en drive\n",
        "drive.mount('/content/drive',timeout_ms=600000)"
      ],
      "metadata": {
        "colab": {
          "base_uri": "https://localhost:8080/"
        },
        "id": "ksppB3r4rV7b",
        "outputId": "9293e40b-eac4-4542-9ffd-2d5b51bf3e88"
      },
      "execution_count": 2,
      "outputs": [
        {
          "output_type": "stream",
          "name": "stdout",
          "text": [
            "Mounted at /content/drive\n"
          ]
        }
      ]
    },
    {
      "cell_type": "code",
      "execution_count": 3,
      "metadata": {
        "id": "xeK_pYzQqr4H"
      },
      "outputs": [],
      "source": [
        "#Así se guardan\n",
        "folder = '/content/drive/MyDrive/AI/data/datos_RETO/'\n",
        "images_train = np.load(folder + 'datos_RETOimages_train.npy')\n",
        "masks_train = np.load(folder + 'datos_RETOmasks_train.npy')\n",
        "images_val = np.load(folder + 'datos_RETOimages_val.npy')\n",
        "masks_val = np.load(folder + 'datos_RETOmasks_val.npy')\n",
        "images_test = np.load(folder + 'datos_RETOimages_test.npy')\n",
        "masks_test = np.load(folder + 'datos_RETOmasks_test.npy')"
      ]
    },
    {
      "cell_type": "code",
      "source": [
        "# Establece un umbral para la binarización de las mascaras\n",
        "threshold = 0.5\n",
        "\n",
        "masks_train = np.where(masks_train >= threshold, 1, 0)\n",
        "masks_val = np.where(masks_val >= threshold, 1, 0)\n",
        "masks_test = np.where(masks_test >= threshold, 1, 0)"
      ],
      "metadata": {
        "id": "FZZUAZ-mIiOh"
      },
      "execution_count": 4,
      "outputs": []
    },
    {
      "cell_type": "code",
      "source": [
        "import tensorflow as tf\n",
        "\n",
        "\n",
        "def dice_coefficient(y_true, y_pred):\n",
        "    y_true = tf.dtypes.cast(y_true, tf.float32)  # Convertir y_true a float32\n",
        "    intersection = tf.reduce_sum(y_true * y_pred)\n",
        "    union = tf.reduce_sum(y_true) + tf.reduce_sum(y_pred)\n",
        "    dice = (2.0 * intersection) / (union + 1e-5)\n",
        "    return dice"
      ],
      "metadata": {
        "id": "qB7aXBA15GNy"
      },
      "execution_count": 5,
      "outputs": []
    },
    {
      "cell_type": "code",
      "source": [
        "def dice_coef_loss(y_true, y_pred):\n",
        "    return -dice_coefficient(y_true, y_pred)\n"
      ],
      "metadata": {
        "id": "IjrBQ-l1FWUV"
      },
      "execution_count": 6,
      "outputs": []
    },
    {
      "cell_type": "code",
      "source": [
        "from tensorflow.keras.callbacks import ModelCheckpoint\n",
        "from keras.layers import Dense, Dropout\n",
        "from tensorflow.keras.regularizers import l2\n",
        "from tensorflow import keras\n",
        "from keras.models import Sequential\n",
        "from keras.layers import Dense\n",
        "from keras import layers\n",
        "\n",
        "model = Sequential()\n",
        "\n",
        "# Base convolucional\n",
        "model.add(layers.Conv2D(32, (3, 3),padding='same', activation='relu', input_shape=(112, 112, 3)))\n",
        "model.add(layers.BatchNormalization())\n",
        "model.add(layers.Conv2D(32, (3, 3),padding='same', activation='relu'))\n",
        "model.add(layers.BatchNormalization())\n",
        "model.add(layers.MaxPooling2D((2, 2)))\n",
        "\n",
        "model.add(layers.Conv2D(64, (3, 3),padding='same', activation='relu'))\n",
        "model.add(layers.BatchNormalization())\n",
        "model.add(layers.Conv2D(64, (3, 3),padding='same', activation='relu'))\n",
        "model.add(layers.BatchNormalization())\n",
        "model.add(layers.MaxPooling2D((2, 2)))\n",
        "\n",
        "model.add(layers.Conv2D(128, (3, 3),padding='same', activation='relu'))\n",
        "model.add(layers.BatchNormalization())\n",
        "model.add(layers.Conv2D(128, (3, 3),padding='same', activation='relu'))\n",
        "model.add(layers.BatchNormalization())\n",
        "model.add(layers.MaxPooling2D((2, 2)))\n",
        "\n",
        "model.add(layers.Conv2D(256, (3, 3),padding='same', activation='relu'))\n",
        "model.add(layers.BatchNormalization())\n",
        "model.add(layers.Conv2D(256, (3, 3),padding='same', activation='relu'))\n",
        "model.add(layers.BatchNormalization())\n",
        "model.add(layers.MaxPooling2D((2, 2)))\n",
        "model.add(Dropout(0.5))\n",
        "\n",
        "# Regularización L2\n",
        "model.add(layers.Flatten())\n",
        "model.add(Dense(112, activation='relu', kernel_regularizer=l2(0.0001)))\n",
        "model.add(layers.BatchNormalization())\n",
        "model.add(layers.Dense((112*112), activation='sigmoid'))\n",
        "model.add(Dropout(0.5))\n",
        "model.add(layers.Reshape((112, 112,1)))\n",
        "\n",
        "checkpoint = ModelCheckpoint(\"mejor_modelo.h5\", monitor='val_dice_coefficient', verbose=1, save_best_only=True, mode='max')\n",
        "\n",
        "keras.utils.get_custom_objects()['dice_coef_loss'] = dice_coef_loss\n",
        "\n",
        "keras.utils.get_custom_objects()['dice_coefficient'] = dice_coefficient"
      ],
      "metadata": {
        "id": "yhlv0sYy5Kc9"
      },
      "execution_count": 7,
      "outputs": []
    },
    {
      "cell_type": "code",
      "source": [
        "model.summary()"
      ],
      "metadata": {
        "colab": {
          "base_uri": "https://localhost:8080/"
        },
        "id": "lpNm_wqCW8i3",
        "outputId": "5758017d-fbdb-490d-ea87-7a20d65a7d34"
      },
      "execution_count": 8,
      "outputs": [
        {
          "output_type": "stream",
          "name": "stdout",
          "text": [
            "Model: \"sequential\"\n",
            "_________________________________________________________________\n",
            " Layer (type)                Output Shape              Param #   \n",
            "=================================================================\n",
            " conv2d (Conv2D)             (None, 112, 112, 32)      896       \n",
            "                                                                 \n",
            " batch_normalization (Batch  (None, 112, 112, 32)      128       \n",
            " Normalization)                                                  \n",
            "                                                                 \n",
            " conv2d_1 (Conv2D)           (None, 112, 112, 32)      9248      \n",
            "                                                                 \n",
            " batch_normalization_1 (Bat  (None, 112, 112, 32)      128       \n",
            " chNormalization)                                                \n",
            "                                                                 \n",
            " max_pooling2d (MaxPooling2  (None, 56, 56, 32)        0         \n",
            " D)                                                              \n",
            "                                                                 \n",
            " conv2d_2 (Conv2D)           (None, 56, 56, 64)        18496     \n",
            "                                                                 \n",
            " batch_normalization_2 (Bat  (None, 56, 56, 64)        256       \n",
            " chNormalization)                                                \n",
            "                                                                 \n",
            " conv2d_3 (Conv2D)           (None, 56, 56, 64)        36928     \n",
            "                                                                 \n",
            " batch_normalization_3 (Bat  (None, 56, 56, 64)        256       \n",
            " chNormalization)                                                \n",
            "                                                                 \n",
            " max_pooling2d_1 (MaxPoolin  (None, 28, 28, 64)        0         \n",
            " g2D)                                                            \n",
            "                                                                 \n",
            " conv2d_4 (Conv2D)           (None, 28, 28, 128)       73856     \n",
            "                                                                 \n",
            " batch_normalization_4 (Bat  (None, 28, 28, 128)       512       \n",
            " chNormalization)                                                \n",
            "                                                                 \n",
            " conv2d_5 (Conv2D)           (None, 28, 28, 128)       147584    \n",
            "                                                                 \n",
            " batch_normalization_5 (Bat  (None, 28, 28, 128)       512       \n",
            " chNormalization)                                                \n",
            "                                                                 \n",
            " max_pooling2d_2 (MaxPoolin  (None, 14, 14, 128)       0         \n",
            " g2D)                                                            \n",
            "                                                                 \n",
            " conv2d_6 (Conv2D)           (None, 14, 14, 256)       295168    \n",
            "                                                                 \n",
            " batch_normalization_6 (Bat  (None, 14, 14, 256)       1024      \n",
            " chNormalization)                                                \n",
            "                                                                 \n",
            " conv2d_7 (Conv2D)           (None, 14, 14, 256)       590080    \n",
            "                                                                 \n",
            " batch_normalization_7 (Bat  (None, 14, 14, 256)       1024      \n",
            " chNormalization)                                                \n",
            "                                                                 \n",
            " max_pooling2d_3 (MaxPoolin  (None, 7, 7, 256)         0         \n",
            " g2D)                                                            \n",
            "                                                                 \n",
            " dropout (Dropout)           (None, 7, 7, 256)         0         \n",
            "                                                                 \n",
            " flatten (Flatten)           (None, 12544)             0         \n",
            "                                                                 \n",
            " dense (Dense)               (None, 112)               1405040   \n",
            "                                                                 \n",
            " batch_normalization_8 (Bat  (None, 112)               448       \n",
            " chNormalization)                                                \n",
            "                                                                 \n",
            " dense_1 (Dense)             (None, 12544)             1417472   \n",
            "                                                                 \n",
            " dropout_1 (Dropout)         (None, 12544)             0         \n",
            "                                                                 \n",
            " reshape (Reshape)           (None, 112, 112, 1)       0         \n",
            "                                                                 \n",
            "=================================================================\n",
            "Total params: 3999056 (15.26 MB)\n",
            "Trainable params: 3996912 (15.25 MB)\n",
            "Non-trainable params: 2144 (8.38 KB)\n",
            "_________________________________________________________________\n"
          ]
        }
      ]
    },
    {
      "cell_type": "code",
      "source": [
        "# Compilar el modelo\n",
        "model.compile(optimizer='adam',\n",
        "              loss=[dice_coef_loss],  # Utiliza binary_crossentropy para máscaras binarias\n",
        "              metrics=[dice_coefficient])\n",
        "\n",
        "# Entrenar el modelo\n",
        "history = model.fit(images_train, masks_train, epochs=20, batch_size=32, validation_data=(images_val, masks_val),callbacks=[checkpoint])\n",
        "\n",
        "# Evaluar el modelo en datos de prueba\n",
        "test_loss, test_dice_score = model.evaluate(images_test, masks_test)\n",
        "print(f'Loss en datos de prueba: {test_loss}')\n",
        "print(f'DICE SCORE en datos de prueba: {test_dice_score}')"
      ],
      "metadata": {
        "colab": {
          "base_uri": "https://localhost:8080/"
        },
        "id": "8r-FIUAE5XZb",
        "outputId": "0e9d5e58-8235-4145-d11b-adeb363f9315"
      },
      "execution_count": 8,
      "outputs": [
        {
          "output_type": "stream",
          "name": "stdout",
          "text": [
            "Epoch 1/20\n",
            "467/467 [==============================] - ETA: 0s - loss: -0.5892 - dice_coefficient: 0.6052\n",
            "Epoch 1: val_dice_coefficient improved from -inf to 0.83178, saving model to mejor_modelo.h5\n",
            "467/467 [==============================] - 50s 70ms/step - loss: -0.5892 - dice_coefficient: 0.6052 - val_loss: -0.8154 - val_dice_coefficient: 0.8318\n",
            "Epoch 2/20\n"
          ]
        },
        {
          "output_type": "stream",
          "name": "stderr",
          "text": [
            "/usr/local/lib/python3.10/dist-packages/keras/src/engine/training.py:3079: UserWarning: You are saving your model as an HDF5 file via `model.save()`. This file format is considered legacy. We recommend using instead the native Keras format, e.g. `model.save('my_model.keras')`.\n",
            "  saving_api.save_model(\n"
          ]
        },
        {
          "output_type": "stream",
          "name": "stdout",
          "text": [
            "466/467 [============================>.] - ETA: 0s - loss: -0.8409 - dice_coefficient: 0.8566\n",
            "Epoch 2: val_dice_coefficient improved from 0.83178 to 0.86495, saving model to mejor_modelo.h5\n",
            "467/467 [==============================] - 31s 67ms/step - loss: -0.8409 - dice_coefficient: 0.8566 - val_loss: -0.8501 - val_dice_coefficient: 0.8649\n",
            "Epoch 3/20\n",
            "466/467 [============================>.] - ETA: 0s - loss: -0.8623 - dice_coefficient: 0.8765\n",
            "Epoch 3: val_dice_coefficient improved from 0.86495 to 0.88311, saving model to mejor_modelo.h5\n",
            "467/467 [==============================] - 31s 67ms/step - loss: -0.8622 - dice_coefficient: 0.8764 - val_loss: -0.8677 - val_dice_coefficient: 0.8831\n",
            "Epoch 4/20\n",
            "466/467 [============================>.] - ETA: 0s - loss: -0.8703 - dice_coefficient: 0.8854\n",
            "Epoch 4: val_dice_coefficient improved from 0.88311 to 0.88976, saving model to mejor_modelo.h5\n",
            "467/467 [==============================] - 32s 69ms/step - loss: -0.8703 - dice_coefficient: 0.8854 - val_loss: -0.8755 - val_dice_coefficient: 0.8898\n",
            "Epoch 5/20\n",
            "466/467 [============================>.] - ETA: 0s - loss: -0.8766 - dice_coefficient: 0.8918\n",
            "Epoch 5: val_dice_coefficient improved from 0.88976 to 0.90151, saving model to mejor_modelo.h5\n",
            "467/467 [==============================] - 32s 68ms/step - loss: -0.8766 - dice_coefficient: 0.8918 - val_loss: -0.8866 - val_dice_coefficient: 0.9015\n",
            "Epoch 6/20\n",
            "466/467 [============================>.] - ETA: 0s - loss: -0.8819 - dice_coefficient: 0.8963\n",
            "Epoch 6: val_dice_coefficient did not improve from 0.90151\n",
            "467/467 [==============================] - 32s 68ms/step - loss: -0.8819 - dice_coefficient: 0.8963 - val_loss: -0.8861 - val_dice_coefficient: 0.9002\n",
            "Epoch 7/20\n",
            "466/467 [============================>.] - ETA: 0s - loss: -0.8853 - dice_coefficient: 0.8995\n",
            "Epoch 7: val_dice_coefficient improved from 0.90151 to 0.90386, saving model to mejor_modelo.h5\n",
            "467/467 [==============================] - 32s 68ms/step - loss: -0.8853 - dice_coefficient: 0.8995 - val_loss: -0.8892 - val_dice_coefficient: 0.9039\n",
            "Epoch 8/20\n",
            "466/467 [============================>.] - ETA: 0s - loss: -0.8827 - dice_coefficient: 0.8990\n",
            "Epoch 8: val_dice_coefficient improved from 0.90386 to 0.90588, saving model to mejor_modelo.h5\n",
            "467/467 [==============================] - 31s 67ms/step - loss: -0.8827 - dice_coefficient: 0.8990 - val_loss: -0.8898 - val_dice_coefficient: 0.9059\n",
            "Epoch 9/20\n",
            "466/467 [============================>.] - ETA: 0s - loss: -0.8882 - dice_coefficient: 0.9040\n",
            "Epoch 9: val_dice_coefficient improved from 0.90588 to 0.91146, saving model to mejor_modelo.h5\n",
            "467/467 [==============================] - 32s 68ms/step - loss: -0.8882 - dice_coefficient: 0.9039 - val_loss: -0.8965 - val_dice_coefficient: 0.9115\n",
            "Epoch 10/20\n",
            "466/467 [============================>.] - ETA: 0s - loss: -0.8921 - dice_coefficient: 0.9071\n",
            "Epoch 10: val_dice_coefficient did not improve from 0.91146\n",
            "467/467 [==============================] - 31s 67ms/step - loss: -0.8921 - dice_coefficient: 0.9070 - val_loss: -0.8945 - val_dice_coefficient: 0.9094\n",
            "Epoch 11/20\n",
            "466/467 [============================>.] - ETA: 0s - loss: -0.8935 - dice_coefficient: 0.9084\n",
            "Epoch 11: val_dice_coefficient did not improve from 0.91146\n",
            "467/467 [==============================] - 31s 67ms/step - loss: -0.8935 - dice_coefficient: 0.9084 - val_loss: -0.8936 - val_dice_coefficient: 0.9091\n",
            "Epoch 12/20\n",
            "466/467 [============================>.] - ETA: 0s - loss: -0.8939 - dice_coefficient: 0.9102\n",
            "Epoch 12: val_dice_coefficient did not improve from 0.91146\n",
            "467/467 [==============================] - 31s 66ms/step - loss: -0.8939 - dice_coefficient: 0.9102 - val_loss: -0.8887 - val_dice_coefficient: 0.9067\n",
            "Epoch 13/20\n",
            "466/467 [============================>.] - ETA: 0s - loss: -0.8953 - dice_coefficient: 0.9119\n",
            "Epoch 13: val_dice_coefficient improved from 0.91146 to 0.91299, saving model to mejor_modelo.h5\n",
            "467/467 [==============================] - 32s 68ms/step - loss: -0.8953 - dice_coefficient: 0.9119 - val_loss: -0.8977 - val_dice_coefficient: 0.9130\n",
            "Epoch 14/20\n",
            "466/467 [============================>.] - ETA: 0s - loss: -0.8976 - dice_coefficient: 0.9131\n",
            "Epoch 14: val_dice_coefficient did not improve from 0.91299\n",
            "467/467 [==============================] - 31s 67ms/step - loss: -0.8976 - dice_coefficient: 0.9130 - val_loss: -0.8874 - val_dice_coefficient: 0.9028\n",
            "Epoch 15/20\n",
            "466/467 [============================>.] - ETA: 0s - loss: -0.9003 - dice_coefficient: 0.9156\n",
            "Epoch 15: val_dice_coefficient improved from 0.91299 to 0.91445, saving model to mejor_modelo.h5\n",
            "467/467 [==============================] - 32s 68ms/step - loss: -0.9002 - dice_coefficient: 0.9154 - val_loss: -0.8996 - val_dice_coefficient: 0.9145\n",
            "Epoch 16/20\n",
            "466/467 [============================>.] - ETA: 0s - loss: -0.9014 - dice_coefficient: 0.9165\n",
            "Epoch 16: val_dice_coefficient improved from 0.91445 to 0.91457, saving model to mejor_modelo.h5\n",
            "467/467 [==============================] - 31s 67ms/step - loss: -0.9014 - dice_coefficient: 0.9165 - val_loss: -0.8995 - val_dice_coefficient: 0.9146\n",
            "Epoch 17/20\n",
            "466/467 [============================>.] - ETA: 0s - loss: -0.9034 - dice_coefficient: 0.9184\n",
            "Epoch 17: val_dice_coefficient did not improve from 0.91457\n",
            "467/467 [==============================] - 31s 67ms/step - loss: -0.9034 - dice_coefficient: 0.9182 - val_loss: -0.8973 - val_dice_coefficient: 0.9123\n",
            "Epoch 18/20\n",
            "466/467 [============================>.] - ETA: 0s - loss: -0.9039 - dice_coefficient: 0.9194\n",
            "Epoch 18: val_dice_coefficient did not improve from 0.91457\n",
            "467/467 [==============================] - 31s 66ms/step - loss: -0.9039 - dice_coefficient: 0.9193 - val_loss: -0.8978 - val_dice_coefficient: 0.9123\n",
            "Epoch 19/20\n",
            "466/467 [============================>.] - ETA: 0s - loss: -0.9059 - dice_coefficient: 0.9206\n",
            "Epoch 19: val_dice_coefficient did not improve from 0.91457\n",
            "467/467 [==============================] - 31s 67ms/step - loss: -0.9059 - dice_coefficient: 0.9206 - val_loss: -0.8976 - val_dice_coefficient: 0.9136\n",
            "Epoch 20/20\n",
            "466/467 [============================>.] - ETA: 0s - loss: -0.9077 - dice_coefficient: 0.9224\n",
            "Epoch 20: val_dice_coefficient did not improve from 0.91457\n",
            "467/467 [==============================] - 31s 67ms/step - loss: -0.9077 - dice_coefficient: 0.9223 - val_loss: -0.8994 - val_dice_coefficient: 0.9139\n",
            "80/80 [==============================] - 1s 18ms/step - loss: -0.9007 - dice_coefficient: 0.9153\n",
            "Loss en datos de prueba: -0.9007142782211304\n",
            "DICE SCORE en datos de prueba: 0.9152563214302063\n"
          ]
        }
      ]
    },
    {
      "cell_type": "code",
      "source": [
        "model = keras.models.load_model('mejor_modelo.h5')"
      ],
      "metadata": {
        "id": "KiSl9hg4TsaF"
      },
      "execution_count": 9,
      "outputs": []
    },
    {
      "cell_type": "code",
      "source": [
        "index = 33\n",
        "image_test = images_test[index]"
      ],
      "metadata": {
        "id": "s6dif6QeLssa"
      },
      "execution_count": 41,
      "outputs": []
    },
    {
      "cell_type": "code",
      "source": [
        "predicted_mask = model.predict(np.expand_dims(image_test, axis=0))[0]\n",
        "\n",
        "from google.colab.patches import cv2_imshow\n",
        "import cv2\n",
        "\n",
        "# Escala la máscara de vuelta a [0, 255] y conviértela en una imagen en escala de grises\n",
        "masks_test_original_gray = (masks_test[index] * 255).astype(np.uint8)\n",
        "predicted_mask_gray = (predicted_mask * 255).astype(np.uint8)\n",
        "\n",
        "# Asegura que la máscara generada tenga las mismas dimensiones que la imagen original\n",
        "predicted_mask_resized = cv2.resize(predicted_mask_gray, (image_test.shape[1], image_test.shape[0]))\n",
        "masks_test_original_resized = cv2.resize(masks_test_original_gray, (image_test.shape[1], image_test.shape[0]))\n",
        "\n",
        "# Aplica la máscara en blanco y negro a la imagen original\n",
        "overlaid_image = cv2.bitwise_and(image_test, image_test, mask=predicted_mask_resized)\n",
        "\n",
        "# Muestra la imagen original, la máscara en blanco y negro y la imagen superpuesta\n",
        "print(\"Imagen Original\")\n",
        "cv2_imshow(image_test)\n",
        "print(\"Mascara Predicha\")\n",
        "cv2_imshow(predicted_mask_resized)\n",
        "print(\"Mascara Sobrepuesta\")\n",
        "cv2_imshow(overlaid_image)\n",
        "print(\"Máscara Original\")\n",
        "cv2_imshow(masks_test_original_resized)"
      ],
      "metadata": {
        "colab": {
          "base_uri": "https://localhost:8080/",
          "height": 552
        },
        "id": "VvlFyi0jLdnI",
        "outputId": "3425e17c-231f-44aa-9ce0-a8ca2223a135"
      },
      "execution_count": 42,
      "outputs": [
        {
          "output_type": "stream",
          "name": "stdout",
          "text": [
            "1/1 [==============================] - 0s 47ms/step\n",
            "Imagen Original\n"
          ]
        },
        {
          "output_type": "display_data",
          "data": {
            "text/plain": [
              "<PIL.Image.Image image mode=RGB size=112x112>"
            ],
            "image/png": "[encoded data removed]"
          },
          "metadata": {}
        },
        {
          "output_type": "stream",
          "name": "stdout",
          "text": [
            "Mascara Predicha\n"
          ]
        },
        {
          "output_type": "display_data",
          "data": {
            "text/plain": [
              "<PIL.Image.Image image mode=L size=112x112>"
            ],
            "image/png": "[encoded data removed]"
          },
          "metadata": {}
        },
        {
          "output_type": "stream",
          "name": "stdout",
          "text": [
            "Mascara Sobrepuesta\n"
          ]
        },
        {
          "output_type": "display_data",
          "data": {
            "text/plain": [
              "<PIL.Image.Image image mode=RGB size=112x112>"
            ],
            "image/png": "[encoded data removed]"
          },
          "metadata": {}
        },
        {
          "output_type": "stream",
          "name": "stdout",
          "text": [
            "Máscara Original\n"
          ]
        },
        {
          "output_type": "display_data",
          "data": {
            "text/plain": [
              "<PIL.Image.Image image mode=L size=112x112>"
            ],
            "image/png": "[encoded data removed]"
          },
          "metadata": {}
        }
      ]
    },
    {
      "cell_type": "code",
      "source": [
        "import cv2\n",
        "import os\n",
        "import numpy as np\n",
        "\n",
        "# Carpeta que contiene los videos\n",
        "folder = '/content/drive/MyDrive/AI/data/Apical/'\n",
        "\n",
        "# Carpeta de salida para las imágenes\n",
        "output_folder = '/content/drive/MyDrive/AI/data/Apical_frames/'\n",
        "\n",
        "# Crear la carpeta de salida si no existe\n",
        "os.makedirs(output_folder, exist_ok=True)\n",
        "\n",
        "# Lista para almacenar todas las imágenes\n",
        "all_frames = []\n",
        "\n",
        "# Recorrer todos los archivos en la carpeta\n",
        "for filename in os.listdir(folder):\n",
        "    if filename.endswith(\".avi\"):\n",
        "        video_path = os.path.join(folder, filename)\n",
        "\n",
        "        # Abrir el video\n",
        "        cap = cv2.VideoCapture(video_path)\n",
        "\n",
        "        # Obtener la información del video\n",
        "        fps = cap.get(cv2.CAP_PROP_FPS)\n",
        "        total_frames = int(cap.get(cv2.CAP_PROP_FRAME_COUNT))\n",
        "\n",
        "        # Recorrer todos los frames\n",
        "        for frame_number in range(total_frames):\n",
        "            # Leer el frame\n",
        "            ret, frame = cap.read()\n",
        "            if not ret:\n",
        "                break\n",
        "\n",
        "            # Almacenar el frame en la lista\n",
        "            all_frames.append(frame)\n",
        "\n",
        "            # Guardar el frame como una imagen\n",
        "            output_path = os.path.join(output_folder, f\"{filename}_{frame_number:04d}.png\")\n",
        "            cv2.imwrite(output_path, frame)\n",
        "\n",
        "        # Cerrar el video\n",
        "        cap.release()\n",
        "\n",
        "# Convertir la lista de frames a un array NumPy\n",
        "frames_array = np.array(all_frames)\n",
        "\n",
        "# Verificar la forma del array\n",
        "print(\"Shape of frames array:\", frames_array.shape)\n"
      ],
      "metadata": {
        "id": "39bzdunZLogj",
        "colab": {
          "base_uri": "https://localhost:8080/"
        },
        "outputId": "ad02fefe-9aa9-4505-a988-5f7e918f5d2d"
      },
      "execution_count": 12,
      "outputs": [
        {
          "output_type": "stream",
          "name": "stdout",
          "text": [
            "Shape of frames array: (583, 564, 800, 3)\n"
          ]
        }
      ]
    },
    {
      "cell_type": "code",
      "source": [
        "image_test.shape"
      ],
      "metadata": {
        "colab": {
          "base_uri": "https://localhost:8080/"
        },
        "id": "gM651gadAQrM",
        "outputId": "0a0d3557-fede-4cd8-993d-68c570be5efc"
      },
      "execution_count": 17,
      "outputs": [
        {
          "output_type": "execute_result",
          "data": {
            "text/plain": [
              "(112, 112, 3)"
            ]
          },
          "metadata": {},
          "execution_count": 17
        }
      ]
    },
    {
      "cell_type": "code",
      "source": [
        "video_path"
      ],
      "metadata": {
        "colab": {
          "base_uri": "https://localhost:8080/",
          "height": 36
        },
        "id": "x9L-8EwCEo3P",
        "outputId": "867776bb-7b85-4e43-bc3c-c9169306469d"
      },
      "execution_count": 13,
      "outputs": [
        {
          "output_type": "execute_result",
          "data": {
            "text/plain": [
              "'/content/drive/MyDrive/AI/data/Apical/00026.avi'"
            ],
            "application/vnd.google.colaboratory.intrinsic+json": {
              "type": "string"
            }
          },
          "metadata": {},
          "execution_count": 13
        }
      ]
    },
    {
      "cell_type": "code",
      "source": [
        "index = 3\n",
        "image_test2 = frames_array[index]"
      ],
      "metadata": {
        "id": "4JsmH5tiC_MD"
      },
      "execution_count": 24,
      "outputs": []
    },
    {
      "cell_type": "code",
      "source": [
        "print(\"Dimensiones de la imagen de prueba:\", image_test2.shape)"
      ],
      "metadata": {
        "colab": {
          "base_uri": "https://localhost:8080/"
        },
        "id": "_G6TdWe1AK6w",
        "outputId": "a88859aa-55db-44c1-efbc-533d789e8477"
      },
      "execution_count": 25,
      "outputs": [
        {
          "output_type": "stream",
          "name": "stdout",
          "text": [
            "Dimensiones de la imagen de prueba: (564, 800, 3)\n"
          ]
        }
      ]
    },
    {
      "cell_type": "code",
      "source": [
        "image_test2 = cv2.resize(image_test2, (112, 112))\n",
        "\n",
        "# Ahora, 'image_resized' tiene forma (112, 112, 3)\n",
        "print(\"Dimensiones de la imagen redimensionada:\", image_test2.shape)"
      ],
      "metadata": {
        "colab": {
          "base_uri": "https://localhost:8080/"
        },
        "id": "Sjb1B1PwAsyJ",
        "outputId": "70e43245-713c-4ddd-f56e-f138069e5b77"
      },
      "execution_count": 26,
      "outputs": [
        {
          "output_type": "stream",
          "name": "stdout",
          "text": [
            "Dimensiones de la imagen redimensionada: (112, 112, 3)\n"
          ]
        }
      ]
    },
    {
      "cell_type": "code",
      "source": [
        "index = 564\n",
        "image_test2 = frames_array[index]\n",
        "image_test2 = cv2.resize(image_test2, (112, 112))\n",
        "\n",
        "predicted_mask = model.predict(np.expand_dims(image_test2, axis=0))[0]\n",
        "\n",
        "from google.colab.patches import cv2_imshow\n",
        "import cv2\n",
        "\n",
        "# Escala la máscara de vuelta a [0, 255] y conviértela en una imagen en escala de grises\n",
        "\n",
        "predicted_mask_gray = (predicted_mask * 255).astype(np.uint8)\n",
        "\n",
        "# Asegura que la máscara generada tenga las mismas dimensiones que la imagen original\n",
        "predicted_mask_resized = cv2.resize(predicted_mask_gray, (image_test2.shape[1], image_test2.shape[0]))\n",
        "\n",
        "# Aplica la máscara en blanco y negro a la imagen original\n",
        "overlaid_image = cv2.bitwise_and(image_test2, image_test2, mask=predicted_mask_resized)\n",
        "\n",
        "# Muestra la imagen original, la máscara en blanco y negro y la imagen superpuesta\n",
        "print(\"Imagen Original\")\n",
        "cv2_imshow(image_test2)\n",
        "print(\"Mascara Predicha\")\n",
        "cv2_imshow(predicted_mask_resized)\n",
        "print(\"Mascara Sobrepuesta\")\n",
        "cv2_imshow(overlaid_image)"
      ],
      "metadata": {
        "colab": {
          "base_uri": "https://localhost:8080/",
          "height": 422
        },
        "id": "fdYuhvfxCybh",
        "outputId": "a08b30c5-e3fe-41fa-aca4-157f0d68acc1"
      },
      "execution_count": 40,
      "outputs": [
        {
          "output_type": "stream",
          "name": "stdout",
          "text": [
            "1/1 [==============================] - 0s 31ms/step\n",
            "Imagen Original\n"
          ]
        },
        {
          "output_type": "display_data",
          "data": {
            "text/plain": [
              "<PIL.Image.Image image mode=RGB size=112x112>"
            ],
            "image/png": "[encoded data removed]"
          },
          "metadata": {}
        },
        {
          "output_type": "stream",
          "name": "stdout",
          "text": [
            "Mascara Predicha\n"
          ]
        },
        {
          "output_type": "display_data",
          "data": {
            "text/plain": [
              "<PIL.Image.Image image mode=L size=112x112>"
            ],
            "image/png": "[encoded data removed]"
          },
          "metadata": {}
        },
        {
          "output_type": "stream",
          "name": "stdout",
          "text": [
            "Mascara Sobrepuesta\n"
          ]
        },
        {
          "output_type": "display_data",
          "data": {
            "text/plain": [
              "<PIL.Image.Image image mode=RGB size=112x112>"
            ],
            "image/png": "[encoded data removed]"
          },
          "metadata": {}
        }
      ]
    },
    {
      "cell_type": "code",
      "source": [
        "import matplotlib.pyplot as plt\n",
        "\n",
        "# Extraer las métricas del historial\n",
        "dice_coef = history.history['dice_coefficient']\n",
        "val_dice_coef = history.history['val_dice_coefficient']\n",
        "\n",
        "# Crear un rango de épocas para el eje x\n",
        "epochs = range(1, len(dice_coef) + 1)\n",
        "\n",
        "# Graficar el coeficiente DICE para entrenamiento y validación\n",
        "plt.figure(figsize=(10, 6))\n",
        "\n",
        "# Lineas para entrenamiento y validación\n",
        "plt.plot(epochs, dice_coef, 'bo-', label='DICE Score - Entrenamiento', linewidth=2, markersize=8)\n",
        "plt.plot(epochs, val_dice_coef, 'go-', label='DICE Score - Validación', linewidth=2, markersize=8)\n",
        "\n",
        "# Puntos de interés\n",
        "best_epoch = np.argmax(val_dice_coef) + 1\n",
        "best_val_dice_coef = max(val_dice_coef)\n",
        "plt.scatter(best_epoch, best_val_dice_coef, color='red', marker='o', s=100, label=f'Mejor Época\\n({best_epoch}, {best_val_dice_coef:.4f})')\n",
        "\n",
        "# Detalles de la gráfica\n",
        "plt.title('DICE Score - Entrenamiento y Validación', fontsize=16)\n",
        "plt.xlabel('Épocas', fontsize=14)\n",
        "plt.ylabel('DICE Score', fontsize=14)\n",
        "plt.xticks(epochs)\n",
        "plt.grid(True)\n",
        "plt.legend()\n",
        "plt.tight_layout()\n",
        "\n",
        "# Mostrar la gráfica\n",
        "plt.show()\n",
        "\n"
      ],
      "metadata": {
        "colab": {
          "base_uri": "https://localhost:8080/",
          "height": 607
        },
        "id": "hrTpMqVNFBpg",
        "outputId": "b0f99f98-a331-44b4-96fa-e3090f2fa14c"
      },
      "execution_count": 44,
      "outputs": [
        {
          "output_type": "display_data",
          "data": {
            "text/plain": [
              "<Figure size 1000x600 with 1 Axes>"
            ],
            "image/png": "[encoded data removed]"
          },
          "metadata": {}
        }
      ]
    },
    {
      "cell_type": "code",
      "source": [
        "import cv2\n",
        "import os\n",
        "import numpy as np\n",
        "\n",
        "# Carpeta que contiene los videos\n",
        "folder = '/content/drive/MyDrive/AI/data/Apical/'\n",
        "\n",
        "# Carpeta de salida para las imágenes\n",
        "output_folder = '/content/drive/MyDrive/AI/data/Apical_frames/'\n",
        "\n",
        "# Carpeta de salida para los frames procesados\n",
        "processed_folder = '/content/drive/MyDrive/AI/data/Apical_processed_frames/'\n",
        "\n",
        "# Video específico a procesar\n",
        "video_name = '00023.avi'\n",
        "video_path = os.path.join(folder, video_name)\n",
        "\n",
        "# Crear la carpeta de salida si no existe\n",
        "os.makedirs(output_folder, exist_ok=True)\n",
        "os.makedirs(processed_folder, exist_ok=True)\n",
        "\n",
        "# Lista para almacenar todos los frames\n",
        "all_frames = []\n",
        "\n",
        "# Lista para almacenar los frames procesados\n",
        "processed_frames = []\n",
        "\n",
        "# Abrir el video\n",
        "cap = cv2.VideoCapture(video_path)\n",
        "\n",
        "# Obtener la información del video\n",
        "fps = cap.get(cv2.CAP_PROP_FPS)\n",
        "total_frames = int(cap.get(cv2.CAP_PROP_FRAME_COUNT))\n",
        "\n",
        "# Recorrer todos los frames\n",
        "for frame_number in range(total_frames):\n",
        "    # Leer el frame\n",
        "    ret, frame = cap.read()\n",
        "    if not ret:\n",
        "        break\n",
        "\n",
        "    # Almacenar el frame en la lista\n",
        "    all_frames.append(frame)\n",
        "\n",
        "    # Guardar el frame como una imagen\n",
        "    output_path = os.path.join(output_folder, f\"{video_name}_{frame_number:04d}.png\")\n",
        "    cv2.imwrite(output_path, frame)\n",
        "\n",
        "    frame = cv2.resize(frame, (112, 112))\n",
        "\n",
        "    # Aplicar el modelo al frame\n",
        "    predicted_mask = model.predict(np.expand_dims(frame, axis=0))[0]\n",
        "\n",
        "    # Escala la máscara de vuelta a [0, 255] y conviértela en una imagen en escala de grises\n",
        "    predicted_mask_gray = (predicted_mask * 255).astype(np.uint8)\n",
        "\n",
        "    # Asegura que la máscara generada tenga las mismas dimensiones que la imagen original\n",
        "    predicted_mask_resized = cv2.resize(predicted_mask_gray, (frame.shape[1], frame.shape[0]))\n",
        "\n",
        "    # Aplica la máscara en blanco y negro al frame original\n",
        "    overlaid_frame = cv2.bitwise_and(frame, frame, mask=predicted_mask_resized)\n",
        "\n",
        "    # Almacena el frame procesado en la lista\n",
        "    processed_frames.append(overlaid_frame)\n",
        "\n",
        "    # Guarda el frame procesado como una imagen\n",
        "    processed_output_path = os.path.join(processed_folder, f\"{video_name}_{frame_number:04d}.png\")\n",
        "    cv2.imwrite(processed_output_path, overlaid_frame)\n",
        "\n",
        "# Cerrar el video\n",
        "cap.release()\n",
        "\n",
        "# Convertir la lista de frames a un array NumPy\n",
        "frames_array = np.array(all_frames)\n",
        "\n",
        "# Verificar la forma del array\n",
        "print(\"Shape of frames array:\", frames_array.shape)\n",
        "\n",
        "# Guardar los frames procesados en un nuevo video AVI\n",
        "output_video_path = '/content/drive/MyDrive/AI/data/Apical_processed_video23.avi'\n",
        "fourcc = cv2.VideoWriter_fourcc(*'XVID')\n",
        "output_video = cv2.VideoWriter(output_video_path, fourcc, fps, (frame.shape[1], frame.shape[0]))\n",
        "\n",
        "for processed_frame in processed_frames:\n",
        "    output_video.write(processed_frame)\n",
        "\n",
        "output_video.release()\n",
        "print(\"Video procesado guardado en:\", output_video_path)\n"
      ],
      "metadata": {
        "colab": {
          "base_uri": "https://localhost:8080/"
        },
        "id": "3V_uQn8CSruF",
        "outputId": "5636f7f1-e4eb-41b0-8bb5-8ee7f7d2095d"
      },
      "execution_count": 13,
      "outputs": [
        {
          "output_type": "stream",
          "name": "stdout",
          "text": [
            "1/1 [==============================] - 0s 19ms/step\n",
            "1/1 [==============================] - 0s 18ms/step\n",
            "1/1 [==============================] - 0s 21ms/step\n",
            "1/1 [==============================] - 0s 22ms/step\n",
            "1/1 [==============================] - 0s 20ms/step\n",
            "1/1 [==============================] - 0s 19ms/step\n",
            "1/1 [==============================] - 0s 20ms/step\n",
            "1/1 [==============================] - 0s 20ms/step\n",
            "1/1 [==============================] - 0s 18ms/step\n",
            "1/1 [==============================] - 0s 21ms/step\n",
            "1/1 [==============================] - 0s 18ms/step\n",
            "1/1 [==============================] - 0s 17ms/step\n",
            "1/1 [==============================] - 0s 18ms/step\n",
            "1/1 [==============================] - 0s 18ms/step\n",
            "1/1 [==============================] - 0s 19ms/step\n",
            "1/1 [==============================] - 0s 18ms/step\n",
            "1/1 [==============================] - 0s 19ms/step\n",
            "1/1 [==============================] - 0s 19ms/step\n",
            "1/1 [==============================] - 0s 18ms/step\n",
            "1/1 [==============================] - 0s 17ms/step\n",
            "1/1 [==============================] - 0s 26ms/step\n",
            "1/1 [==============================] - 0s 19ms/step\n",
            "1/1 [==============================] - 0s 20ms/step\n",
            "1/1 [==============================] - 0s 21ms/step\n",
            "1/1 [==============================] - 0s 23ms/step\n",
            "1/1 [==============================] - 0s 18ms/step\n",
            "1/1 [==============================] - 0s 20ms/step\n",
            "1/1 [==============================] - 0s 19ms/step\n",
            "1/1 [==============================] - 0s 28ms/step\n",
            "1/1 [==============================] - 0s 21ms/step\n",
            "1/1 [==============================] - 0s 20ms/step\n",
            "1/1 [==============================] - 0s 20ms/step\n",
            "1/1 [==============================] - 0s 20ms/step\n",
            "1/1 [==============================] - 0s 24ms/step\n",
            "1/1 [==============================] - 0s 19ms/step\n",
            "1/1 [==============================] - 0s 19ms/step\n",
            "1/1 [==============================] - 0s 22ms/step\n",
            "1/1 [==============================] - 0s 22ms/step\n",
            "1/1 [==============================] - 0s 20ms/step\n",
            "1/1 [==============================] - 0s 18ms/step\n",
            "1/1 [==============================] - 0s 20ms/step\n",
            "1/1 [==============================] - 0s 18ms/step\n",
            "1/1 [==============================] - 0s 21ms/step\n",
            "1/1 [==============================] - 0s 22ms/step\n",
            "1/1 [==============================] - 0s 18ms/step\n",
            "1/1 [==============================] - 0s 19ms/step\n",
            "1/1 [==============================] - 0s 19ms/step\n",
            "1/1 [==============================] - 0s 19ms/step\n",
            "1/1 [==============================] - 0s 22ms/step\n",
            "Shape of frames array: (49, 564, 800, 3)\n",
            "Video procesado guardado en: /content/drive/MyDrive/AI/data/Apical_processed_video23.avi\n"
          ]
        }
      ]
    },
    {
      "cell_type": "code",
      "source": [
        "import cv2\n",
        "import os\n",
        "\n",
        "# Carpeta que contiene los videos\n",
        "folder = '/content/drive/MyDrive/AI/data/Apical/'\n",
        "\n",
        "# Carpeta de salida para los frames redimensionados\n",
        "resized_folder = '/content/drive/MyDrive/AI/data/Apical_resized_frames/'\n",
        "\n",
        "# Video específico a procesar\n",
        "video_name = '00023.avi'\n",
        "video_path = os.path.join(folder, video_name)\n",
        "\n",
        "# Crear la carpeta de salida si no existe\n",
        "os.makedirs(resized_folder, exist_ok=True)\n",
        "\n",
        "# Abrir el video\n",
        "cap = cv2.VideoCapture(video_path)\n",
        "\n",
        "# Obtener la información del video\n",
        "fps = cap.get(cv2.CAP_PROP_FPS)\n",
        "total_frames = int(cap.get(cv2.CAP_PROP_FRAME_COUNT))\n",
        "\n",
        "# Configurar el tamaño deseado\n",
        "target_size = (112, 112)\n",
        "\n",
        "# Configurar el VideoWriter para el video redimensionado\n",
        "output_video_path = os.path.join(resized_folder, f\"{video_name}_resized.avi\")\n",
        "fourcc = cv2.VideoWriter_fourcc(*'XVID')\n",
        "output_video = cv2.VideoWriter(output_video_path, fourcc, fps, target_size)\n",
        "\n",
        "# Recorrer todos los frames\n",
        "for frame_number in range(total_frames):\n",
        "    # Leer el frame\n",
        "    ret, frame = cap.read()\n",
        "    if not ret:\n",
        "        break\n",
        "\n",
        "    # Redimensionar el frame al tamaño deseado\n",
        "    resized_frame = cv2.resize(frame, target_size)\n",
        "\n",
        "    # Guarda el frame redimensionado en el VideoWriter\n",
        "    output_video.write(resized_frame)\n",
        "\n",
        "# Cerrar el video y el VideoWriter\n",
        "cap.release()\n",
        "output_video.release()\n",
        "\n",
        "print(\"Video redimensionado guardado en:\", output_video_path)"
      ],
      "metadata": {
        "colab": {
          "base_uri": "https://localhost:8080/"
        },
        "id": "EW3oGd3xU-NZ",
        "outputId": "02fb9cbe-3d03-4633-e310-a407bd5dc8fe"
      },
      "execution_count": 14,
      "outputs": [
        {
          "output_type": "stream",
          "name": "stdout",
          "text": [
            "Video redimensionado guardado en: /content/drive/MyDrive/AI/data/Apical_resized_frames/00023.avi_resized.avi\n"
          ]
        }
      ]
    }
  ]
}